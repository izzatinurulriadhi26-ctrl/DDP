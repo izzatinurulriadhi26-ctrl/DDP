{
  "nbformat": 4,
  "nbformat_minor": 0,
  "metadata": {
    "colab": {
      "provenance": [],
      "authorship_tag": "ABX9TyPaIHG7M6vwZ4X2rHsUx1KA",
      "include_colab_link": true
    },
    "kernelspec": {
      "name": "python3",
      "display_name": "Python 3"
    },
    "language_info": {
      "name": "python"
    }
  },
  "cells": [
    {
      "cell_type": "markdown",
      "metadata": {
        "id": "view-in-github",
        "colab_type": "text"
      },
      "source": [
        "<a href=\"https://colab.research.google.com/github/izzatinurulriadhi26-ctrl/DDP/blob/main/praktikum5.ipynb\" target=\"_parent\"><img src=\"https://colab.research.google.com/assets/colab-badge.svg\" alt=\"Open In Colab\"/></a>"
      ]
    },
    {
      "cell_type": "code",
      "execution_count": 3,
      "metadata": {
        "colab": {
          "base_uri": "https://localhost:8080/"
        },
        "id": "p_ZpSj1o4UTD",
        "outputId": "ea1d3915-6793-4058-d23b-e2d75c371c06"
      },
      "outputs": [
        {
          "output_type": "stream",
          "name": "stdout",
          "text": [
            "['Beat Ember', 'Motor', 200, 'Hitam', 2]\n",
            "['Beat Ember', 'Motor', 200, 'Hitam', 2, [5000], ['metic']]\n",
            "['Beat Ember', 'Motor', 'Honda', 200, 'Hitam', 2, [5000], ['metic']]\n"
          ]
        }
      ],
      "source": [
        "namaKendaraan = \"Beat Ember\"\n",
        "jenisKendaraan = \"Motor\"\n",
        "ccKendaraan = 200\n",
        "warnaKendaraan = \"Hitam\"\n",
        "rodaKendaraan = 2\n",
        "\n",
        "data_kendaraan = [namaKendaraan, jenisKendaraan, ccKendaraan, warnaKendaraan, rodaKendaraan]\n",
        "print(data_kendaraan)\n",
        "\n",
        "hargaKendaraan = 5000\n",
        "tipeKendaraan = \"metic\"\n",
        "\n",
        "data_kendaraan.append([hargaKendaraan])\n",
        "data_kendaraan.append([tipeKendaraan])\n",
        "print(data_kendaraan)\n",
        "\n",
        "merkKendaraan = \"Honda\"\n",
        "data_kendaraan.insert(2, merkKendaraan)\n",
        "print(data_kendaraan)"
      ]
    },
    {
      "cell_type": "code",
      "source": [
        "pilihan = input(\"\"\"\n",
        "Silahkan pilih menu yang diinginkan\n",
        "===================================\n",
        "1. Luas Persegi\n",
        "2. Luas Lingkaran\n",
        "3. Luas Segitiga\n",
        "===================================\n",
        "Kirimkan hanya angka saja,\n",
        "jawaban =\n",
        "\"\"\")\n",
        "\n",
        "match pilihan:\n",
        "  case \"1\":\n",
        "     sisi = int(input(\"sisi =\"))\n",
        "     luas = sisi * sisi\n",
        "\n",
        "     print(f\"luas persegi dengan sisi {sisi} adalah {luas}\")\n",
        "     # luas persegi\n",
        "  case \"2\":\n",
        "    jarijari = int(input(\"jarijari =\"))\n",
        "    luas = 3.14*jarijari**2\n",
        "\n",
        "    # luas lingkaran\n",
        "    # Math.pi*jarijari**2\n",
        "    print(f\"luas lingkaran dengan jarijari {jarijari} adalah {luas}\")\n",
        "\n",
        "\n",
        "  case \"3\":\n",
        "    alas = float(input(\"masukan panjang alas segitiga\"))\n",
        "    tinggi = float(input(\"masukan tinggi segitiga\"))\n",
        "    luas = (alas*tinggi)/2\n",
        "    print(f\"luas segitiga adalah {luas: .2f}\")\n",
        "\n",
        "    # luas segitiga\n",
        "    # (alas*tinggi)/2"
      ],
      "metadata": {
        "colab": {
          "base_uri": "https://localhost:8080/"
        },
        "id": "k9Ti9XCc9P5g",
        "outputId": "4bd9d00a-3d94-4e03-ccab-3eb26a40fe7f"
      },
      "execution_count": 14,
      "outputs": [
        {
          "output_type": "stream",
          "name": "stdout",
          "text": [
            "\n",
            "Silahkan pilih menu yang diinginkan\n",
            "===================================\n",
            "1. Luas Persegi\n",
            "2. Luas Lingkaran\n",
            "3. Luas Segitiga\n",
            "===================================\n",
            "Kirimkan hanya angka saja,\n",
            "jawaban = \n",
            "1\n",
            "sisi =4\n",
            "luas persegi dengan sisi 4 adalah 16\n"
          ]
        }
      ]
    }
  ]
}